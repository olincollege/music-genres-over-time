{
 "cells": [
  {
   "cell_type": "code",
   "execution_count": 1,
   "metadata": {},
   "outputs": [],
   "source": [
    "import pandas as pd\n"
   ]
  },
  {
   "cell_type": "code",
   "execution_count": 8,
   "metadata": {},
   "outputs": [],
   "source": [
    "wikepedia_url = \"https://en.wikipedia.org/wiki/Billboard_year-end_top_singles_of_1946\"\n",
    "tables_in_article = pd.read_html(wikepedia_url)"
   ]
  },
  {
   "cell_type": "code",
   "execution_count": 9,
   "metadata": {},
   "outputs": [
    {
     "name": "stdout",
     "output_type": "stream",
     "text": [
      "                      Title        Artist(s)\n",
      "0                 \"Hold On\"  Wilson Phillips\n",
      "1  \"It Must Have Been Love\"          Roxette\n",
      "2    \"Nothing Compares 2 U\"  Sinéad O'Connor\n",
      "3                  \"Poison\"   Bell Biv DeVoe\n",
      "4                   \"Vogue\"          Madonna\n"
     ]
    }
   ],
   "source": [
    "top_songs_data_frame = tables_in_article[0]\n",
    "top_songs_data_frame = top_songs_data_frame.drop([\"No.\"], axis=1)\n",
    "#data_dictionary = pd.DataFrame.to_dict(top_songs_data_frame)\n",
    "print(top_songs_data_frame.head())"
   ]
  },
  {
   "cell_type": "code",
   "execution_count": null,
   "metadata": {},
   "outputs": [],
   "source": []
  },
  {
   "cell_type": "code",
   "execution_count": null,
   "metadata": {},
   "outputs": [],
   "source": []
  }
 ],
 "metadata": {
  "kernelspec": {
   "display_name": "Python 3",
   "language": "python",
   "name": "python3"
  },
  "language_info": {
   "codemirror_mode": {
    "name": "ipython",
    "version": 3
   },
   "file_extension": ".py",
   "mimetype": "text/x-python",
   "name": "python",
   "nbconvert_exporter": "python",
   "pygments_lexer": "ipython3",
   "version": "3.8.5"
  }
 },
 "nbformat": 4,
 "nbformat_minor": 2
}
